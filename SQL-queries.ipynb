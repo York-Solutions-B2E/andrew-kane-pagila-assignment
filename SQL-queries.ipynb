{
 "cells": [
  {
   "cell_type": "code",
   "execution_count": 1,
   "metadata": {},
   "outputs": [],
   "source": [
    "import psycopg2\n",
    "import pandas as pd\n",
    "import matplotlib.pyplot as plt\n",
    "import numpy as np"
   ]
  },
  {
   "cell_type": "code",
   "execution_count": 2,
   "metadata": {},
   "outputs": [],
   "source": [
    "conn = psycopg2.connect(dbname = 'postgres',\n",
    "                        user = 'postgres',\n",
    "                        password = 'password',\n",
    "                        host = 'localhost',\n",
    "                        port = '5432')"
   ]
  },
  {
   "cell_type": "code",
   "execution_count": 3,
   "metadata": {},
   "outputs": [],
   "source": [
    "cursor = conn.cursor()"
   ]
  },
  {
   "cell_type": "code",
   "execution_count": 4,
   "metadata": {},
   "outputs": [],
   "source": [
    "query1 = \"\"\"    \n",
    "    SELECT category.name, COUNT(rental.inventory_id) AS rents \n",
    "    FROM category\n",
    "    FULL JOIN film_category ON category.category_id = film_category.category_id \n",
    "    FULL JOIN film ON film_category.film_id = film.film_id\n",
    "    FULL JOIN inventory ON film.film_id = inventory.film_id \n",
    "    RIGHT JOIN rental ON inventory.inventory_id = rental.inventory_id \n",
    "    GROUP BY category.name\n",
    "    ORDER BY rents DESC\n",
    "        \"\"\"\n",
    "\n",
    "cursor.execute(query1)\n",
    "result1 = cursor.fetchall()"
   ]
  },
  {
   "cell_type": "code",
   "execution_count": 5,
   "metadata": {},
   "outputs": [
    {
     "name": "stdout",
     "output_type": "stream",
     "text": [
      "[('Sports', 1179), ('Animation', 1166), ('Action', 1112), ('Sci-Fi', 1101), ('Family', 1096), ('Drama', 1060), ('Documentary', 1050), ('Foreign', 1033), ('Games', 969), ('Children', 945), ('Comedy', 941), ('New', 940), ('Classics', 939), ('Horror', 846), ('Travel', 837), ('Music', 830)]\n"
     ]
    }
   ],
   "source": [
    "print(result1)"
   ]
  },
  {
   "cell_type": "code",
   "execution_count": null,
   "metadata": {},
   "outputs": [],
   "source": []
  }
 ],
 "metadata": {
  "kernelspec": {
   "display_name": "Python 3",
   "language": "python",
   "name": "python3"
  },
  "language_info": {
   "codemirror_mode": {
    "name": "ipython",
    "version": 3
   },
   "file_extension": ".py",
   "mimetype": "text/x-python",
   "name": "python",
   "nbconvert_exporter": "python",
   "pygments_lexer": "ipython3",
   "version": "3.11.6"
  }
 },
 "nbformat": 4,
 "nbformat_minor": 2
}
